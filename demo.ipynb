{
 "cells": [
  {
   "cell_type": "markdown",
   "metadata": {},
   "source": [
    "# Agglomerative Info-Clustering"
   ]
  },
  {
   "cell_type": "markdown",
   "metadata": {},
   "source": [
    "[![Binder](https://mybinder.org/badge_logo.svg)](https://mybinder.org/v2/gh/ccha23/Agglomerative-Info-Clustering/master?urlpath=lab/tree/AIC.ipynb)\n",
    "\n",
    "This notebook demonstrates the agglomerative info-clustering algorithm (AIC) implemented in C++. It can be run using the [xeus-cling](https://xeus-cling.readthedocs.io/en/latest/) C++11 jupyter kernel."
   ]
  },
  {
   "cell_type": "markdown",
   "metadata": {},
   "source": [
    "## Info-Clustering"
   ]
  },
  {
   "cell_type": "markdown",
   "metadata": {},
   "source": [
    "$\\def\\M#1{\\boldsymbol{#1}}\n",
    "\\def\\R#1{\\mathsf{#1}}\n",
    "\\def\\RM#1{\\M{\\R{#1}}}\n",
    "\\def\\mc#1{\\mathcal{#1}}\n",
    "\\def\\Set#1{\\left\\{{#1}\\right\\}}\n",
    "\\def\\abs#1{\\left|{#1}\\right|}\n",
    "\\def\\RZ{\\R{Z}}\n",
    "\\def\\Rx{\\R{x}}\n",
    "\\def\\RX{\\R{X}}\n",
    "\\def\\RMx{\\RM{x}}\n",
    "\\def\\MM{\\M{M}}\n",
    "\\def\\MS{\\M{S}}\n",
    "\\def\\mcP{\\mathcal{P}}\n",
    "$*Info-clustering (IC)* is a hierarchical clustering using *multivariate mutual information (MMI)* as the cophenetic similarity.\n",
    "\n",
    "**Definition** (MMI) For any tuple of random variables\n",
    "$$\\RZ_V:=(\\RZ_i\\mid i\\in V),$$\n",
    "the multivariate mutual information is defined as\n",
    "$$\\begin{align}I(\\RZ_V) &:= \\min\\{\\gamma\\geq 0|\\exists \\mcP\\in \\Pi'(V),\\tag{1a}\\\\\n",
    "&\\kern6em \\left.\\sum_{B\\in \\mcP} [H(\\RZ_B)-\\gamma] = H(\\RZ_C)-\\gamma\\right\\}\\tag{1b}\\label{eq:rir}\\\\\n",
    "&= \\min_{\\mcP\\in \\Pi'(V)} \\frac{D(P_{\\RZ_V}\\|\\prod_{C\\in \\mcP} P_{\\RZ_C})}{\\abs{\\mcP}-1} \\tag{2}\\label{eq:mmi}\\end{align}$$ \n",
    "where $\\Pi'(V)$ is the collection of partitions of $V$ into at least 2 non-empty disjoint sets. \\eqref{eq:mmi} extends the formula \n",
    "$$I(\\RZ_i\\wedge \\RZ_j)=D(P_{\\RZ_i,\\RZ_j}\\|P_{\\RZ_i}P_{\\RZ_j})$$ \n",
    "of mutual information in terms of KL-divergence. The product distribution corresponds to and independence relation in the multivariate case. \\eqref{eq:rir} means that $\\gamma$ is the amount of information removal of which leads to the independence relation. $\\square$"
   ]
  },
  {
   "cell_type": "markdown",
   "metadata": {},
   "source": [
    "**Definition** (IC) Given a source $\\RZ_V$ where $V$ is the ground set (a finite set of objects to cluster), the set of clusters at similarity $\\gamma\\in \\mathbb{R}$ given by info-clustering is\n",
    "$$\\begin{align}\\begin{split}\\mc{C}_{\\gamma}(\\RZ_V):=\\{C\\subseteq V\\mid &I(\\RZ_C)>\\gamma\\\\\n",
    "&I(\\RZ_{C'})\\leq \\gamma\\quad \\forall C'\\subseteq V:C\\subsetneq C'\\},\\end{split}\\tag{3}\\label{eq:IC}\\end{align} $$\n",
    "namely, the set of all inclusion-wise maximal non-singleton subsets MMI exceeding $\\gamma$. The singletons $\\Set{i}$ for $i\\in V$ may be included as trivial clusters by setting $I(\\RZ_i)=\\infty$. $\\square$"
   ]
  },
  {
   "cell_type": "markdown",
   "metadata": {},
   "source": [
    "**Proposition** For any $\\RZ_V$, the info-clustering solution is unique and polynomial-time computable."
   ]
  },
  {
   "cell_type": "markdown",
   "metadata": {},
   "source": [
    " The above follows from the submodularity of the entropy function:\n",
    " $$h(B_1)+h(B_2)\\geq h(B_1\\cup B_2) + h(B_1\\cap B_2)\\quad \\forall B_1,B_2\\subseteq V.\\tag{4}\\label{eq:submodular}$$\n",
    " where \n",
    " $$\\begin{align}h:B\\subseteq V\\mapsto H(\\RZ_B)\\tag{5}\\label{eq:h}\\end{align}$$\n",
    " is the entropy function of $\\RZ_V$ defined using Shannon's entropy or differential entropy $H$. $\\square$"
   ]
  },
  {
   "cell_type": "markdown",
   "metadata": {},
   "source": [
    "## Agglomerative clustering"
   ]
  },
  {
   "cell_type": "markdown",
   "metadata": {},
   "source": [
    "An *agglomerative info-clustering (AIC)* method merges clusters recursively into larger ones starting from the singletons. An exact solution can be calculated using *submodular function optimization techniques* while an approximate solution can be obtained using the *single-linkage method*. Execute the following code to set up the paths."
   ]
  },
  {
   "cell_type": "code",
   "execution_count": 1,
   "metadata": {},
   "outputs": [],
   "source": [
    "#pragma cling add_include_path(\"include\") // main include path"
   ]
  },
  {
   "cell_type": "markdown",
   "metadata": {},
   "source": [
    "### Exact solution"
   ]
  },
  {
   "cell_type": "markdown",
   "metadata": {},
   "source": [
    "Execute the following cell to load the library for AIC."
   ]
  },
  {
   "cell_type": "code",
   "execution_count": 2,
   "metadata": {},
   "outputs": [],
   "source": [
    "#include <IC/AIC>     // agglomerative info-clustering"
   ]
  },
  {
   "cell_type": "markdown",
   "metadata": {},
   "source": [
    "To specify the source $\\RZ_V$ for clustering, it suffices to specify the entropy function since the divergence and therefore MMI can be computed from the function:\n",
    "$$\n",
    "\\begin{align}\n",
    "I(\\RZ_V) &= \\min_{\\mcP\\in \\Pi'(V)} \\frac{h(C) - h(V)}{\\abs{\\mcP}-1}\\tag{6a}\\\\\n",
    "I(\\RZ_B\\wedge \\RZ_C) &= h(B) + h(C) - h(B\\cup C)\\qquad B,C\\subseteq V: B\\cap C=\\emptyset\n",
    "\\tag{6b}\\\\\n",
    "\\end{align}\n",
    "$$\n",
    "N.b., if $B\\cap C\\neq \\emptyset$, the equality $H(\\RZ_B,\\RZ_C)=H(\\RZ_{B\\cup C})$ may not hold for continuous random variables. E.g., if $\\RZ$ is a standard gaussian random variable, we have $h(\\RZ)=\\frac12\\log_2(2\\pi e)$ but $I(\\RZ\\wedge \\RZ)=\\infty$ as $h(\\RZ,\\RZ)=-\\infty$. "
   ]
  },
  {
   "cell_type": "markdown",
   "metadata": {},
   "source": [
    "As an example, we define the entropy function for\n",
    "- $V=\\Set{0,1,2}$ is the ground set,\n",
    "- $\\RZ_0=0$ is a constant, and \n",
    "- $\\RZ_1=\\RZ_2$ is a uniformly random bit."
   ]
  },
  {
   "cell_type": "code",
   "execution_count": 3,
   "metadata": {},
   "outputs": [],
   "source": [
    "class H1 : public IC::SF {\n",
    "    public:\n",
    "    double operator() (const std::vector<size_t> &B) const {\n",
    "        int entropy = 0;\n",
    "        if (std::find(B.begin(),B.end(),1)!=B.end() || \n",
    "            std::find(B.begin(),B.end(),2)!=B.end())\n",
    "            entropy++;\n",
    "        return entropy;\n",
    "    }\n",
    "\n",
    "    size_t size() const { return 3; }\n",
    "};\n",
    "    \n",
    "H1 h1;"
   ]
  },
  {
   "cell_type": "markdown",
   "metadata": {},
   "source": [
    "The entropy function can be evaluated over all subsets of the ground set. The pairwise mutual information can be computed. "
   ]
  },
  {
   "cell_type": "code",
   "execution_count": 4,
   "metadata": {},
   "outputs": [
    {
     "name": "stdout",
     "output_type": "stream",
     "text": [
      "h([ ]) = 0\n",
      "h([ 0 ]) = 0\n",
      "h([ 1 ]) = 1\n",
      "h([ 2 ]) = 1\n",
      "h([ 0 1 ]) = 1\n",
      "h([ 0 2 ]) = 1\n",
      "h([ 1 2 ]) = 1\n",
      "h([ 0 1 2 ]) = 1\n",
      "I(Z0; Z1) = 0\n",
      "I(Z0; Z2) = 0\n",
      "I(Z1; Z2) = 1\n"
     ]
    }
   ],
   "source": [
    "[](IC::SF &h) {\n",
    "    std::vector<std::vector<size_t>> power_set = {{}, // emptyset\n",
    "                                                 {0},{1},{2}, // singletons\n",
    "                                                 {0,1},{0,2},{1,2},\n",
    "                                                 {0,1,2}};\n",
    "    for (size_t i=0; i<power_set.size(); i++) {\n",
    "        std::cout << \"h(\" << power_set[i] << \") = \" \n",
    "                  << h(power_set[i]) << std::endl;\n",
    "    }\n",
    "    \n",
    "    for (size_t i=0; i<h.size(); i++)\n",
    "        for (size_t j=i+1; j<h.size(); j++)\n",
    "        std::cout << \"I(Z\" << i << \"; Z\" << j << \") = \" \n",
    "                  << h.mutual_info(i,j) << std::endl;\n",
    "} (h1);"
   ]
  },
  {
   "cell_type": "markdown",
   "metadata": {},
   "source": [
    "In general, it takes exponential time to go through all values of the entropy function one by one. Fortunately, the exact clustering solution can be obtained without going through all the values, owing to the submodularity of entropy. The solution can also be computed gradually in an agglomerative fashion."
   ]
  },
  {
   "cell_type": "code",
   "execution_count": 5,
   "metadata": {},
   "outputs": [
    {
     "name": "stdout",
     "output_type": "stream",
     "text": [
      "[ [ 0 ] [ 1 ] [ 2 ] ]\n",
      "agglomerates to [ [ 0 ] [ 1 2 ] ] at critical value 1\n",
      "agglomerates to [ [ 0 1 2 ] ] at critical value -0\n"
     ]
    }
   ],
   "source": [
    "IC::AIC psp1(h1); // The data structure for AIC (inherits IC::HC)\n",
    "\n",
    "[](IC::AIC &psp) {\n",
    "    std::cout << psp.getCoarsestPartition() \n",
    "              << std::endl; // get coarsest partition generated\n",
    "    while (psp.agglomerate()) // agglomerate until partition {V}\n",
    "            std::cout << \"agglomerates to \" << psp.getCoarsestPartition() \n",
    "                  << \" at critical value \" << psp.getCriticalValues().back() \n",
    "                  << std::endl;\n",
    "} (psp1);"
   ]
  },
  {
   "cell_type": "markdown",
   "metadata": {},
   "source": [
    "The non-singleton subsets are the desired clusters of the info-clustering solution."
   ]
  },
  {
   "cell_type": "code",
   "execution_count": 6,
   "metadata": {},
   "outputs": [
    {
     "name": "stdout",
     "output_type": "stream",
     "text": [
      "Critical values of MMI: [ 1 -0 ]\n",
      "Clusters with MMI in (1,inf] : \n",
      "Clusters with MMI in (-0,1] : [ 1 2 ] \n",
      "Clusters with MMI in (-inf,-0] : [ 0 1 2 ] \n"
     ]
    }
   ],
   "source": [
    "[](IC::AIC &psp) {\n",
    "    std::vector<double> psp_gamma = psp.getCriticalValues();\n",
    "    std::cout << \"Critical values of MMI: \" << psp_gamma << std::endl;\n",
    "    \n",
    "    psp_gamma.insert(psp_gamma.begin(), INFINITY);\n",
    "    psp_gamma.push_back(-INFINITY);\n",
    "\n",
    "    for (size_t i=1; i < psp_gamma.size(); i++) {\n",
    "        std::cout << \"Clusters with MMI in (\" << psp_gamma[i] \n",
    "                  << \",\"               << psp_gamma[i-1]<< \"] : \";\n",
    "        for (std::vector<size_t> C : psp.getPartition(psp_gamma[i]))\n",
    "            if (C.size()>1)\n",
    "                std::cout << C << \" \";\n",
    "        std::cout << std::endl;\n",
    "    }\n",
    "} (psp1);"
   ]
  },
  {
   "cell_type": "markdown",
   "metadata": {},
   "source": [
    "We can return only clusters containing a certain node as follows."
   ]
  },
  {
   "cell_type": "code",
   "execution_count": 7,
   "metadata": {},
   "outputs": [
    {
     "name": "stdout",
     "output_type": "stream",
     "text": [
      "Critical values of MMI for Node 1 : [ 1 -0 ]\n",
      "Cluster containing Node 1 with MMI in (1,inf] : [ 1 ]\n",
      "Cluster containing Node 1 with MMI in (-0,1] : [ 1 2 ]\n",
      "Cluster containing Node 1 with MMI in (-inf,-0] : [ 1 2 0 ]\n"
     ]
    }
   ],
   "source": [
    "[](IC::AIC &psp, size_t v) {\n",
    "    std::vector<double> psp_gamma = psp.getCriticalValues(v);\n",
    "    std::cout << \"Critical values of MMI for Node \"<< v\n",
    "              << \" : \" << psp_gamma << std::endl;\n",
    "    \n",
    "    psp_gamma.insert(psp_gamma.begin(), INFINITY);\n",
    "    psp_gamma.push_back(-INFINITY);\n",
    "\n",
    "    for (size_t i=1; i < psp_gamma.size(); i++) {\n",
    "        std::cout << \"Cluster containing Node \" << v \n",
    "                  << \" with MMI in (\" << psp_gamma[i] \n",
    "                  << \",\" << psp_gamma[i-1] << \"] : \" \n",
    "                  << psp.getCluster(v,psp_gamma[i]) \n",
    "                  << std::endl;\n",
    "    }\n",
    "} (psp1,1);"
   ]
  },
  {
   "cell_type": "markdown",
   "metadata": {},
   "source": [
    "The similarity between a pair of nodes is the maximum MMI for a cluster containing both nodes, i.e.,\n",
    "$$\\operatorname{sim}(i,j):=\\sup_{C\\subseteq V:i,j\\in C} I(\\RZ_C)\\tag{7}$$"
   ]
  },
  {
   "cell_type": "code",
   "execution_count": 8,
   "metadata": {},
   "outputs": [
    {
     "name": "stdout",
     "output_type": "stream",
     "text": [
      "sim(0,0)=inf\n",
      "sim(0,1)=-0\n",
      "sim(0,2)=-0\n",
      "sim(1,0)=-0\n",
      "sim(1,1)=inf\n",
      "sim(1,2)=1\n",
      "sim(2,0)=-0\n",
      "sim(2,1)=1\n",
      "sim(2,2)=inf\n"
     ]
    }
   ],
   "source": [
    "[](IC::SF &h, IC::AIC &psp) {\n",
    "    for (size_t i=0; i < h.size(); i++)\n",
    "        for (size_t j=0; j < h.size(); j++)\n",
    "            std::cout << \"sim(\" << i << \",\" << j << \")=\"\n",
    "                      << psp.similarity(i,j) << std::endl;\n",
    "} (h1,psp1);"
   ]
  },
  {
   "cell_type": "markdown",
   "metadata": {},
   "source": [
    "### Approximate solution"
   ]
  },
  {
   "cell_type": "markdown",
   "metadata": {},
   "source": [
    "If the MMI is computed with *Chow-Liu (CL)* tree approximation, the method reduces to the single-linkage method on the mutual mutual information relevance network (MIRN), which is a weighted graph on $V$ with edge weight $I(\\RZ_i\\wedge \\RZ_j)$. It can also be viewed as an agglomerative method with the maximum mutual information\n",
    "$$\n",
    "\\max_{i\\in C,j\\in C'} I(\\RZ_i\\wedge \\RZ_j)\n",
    "$$\n",
    "as a measure of similarity between two clusters $C$ and $C'$."
   ]
  },
  {
   "cell_type": "markdown",
   "metadata": {},
   "source": [
    "Execute the following cell to load the CL approximation."
   ]
  },
  {
   "cell_type": "code",
   "execution_count": 9,
   "metadata": {},
   "outputs": [],
   "source": [
    "#include <IC/ChowLiu> // Chow-Liu tree approximation"
   ]
  },
  {
   "cell_type": "markdown",
   "metadata": {},
   "source": [
    "The following gives the Chow-Liu tree approximation."
   ]
  },
  {
   "cell_type": "code",
   "execution_count": 10,
   "metadata": {},
   "outputs": [
    {
     "name": "stdout",
     "output_type": "stream",
     "text": [
      "critical values : [ 1 0 ]\n",
      "partition at threshold 1:[ [ 0 ] [ 1 ] [ 2 ] ]\n",
      "partition at threshold 0:[ [ 0 ] [ 1 2 ] ]\n"
     ]
    }
   ],
   "source": [
    "[](IC::SF &h) {\n",
    "    IC::CL cl(h);\n",
    "    std::vector<double> cl_gamma = cl.getCriticalValues();\n",
    "    std::cout << \"critical values : \" << cl_gamma << std::endl;\n",
    "    for (double gamma : cl.getCriticalValues()) {\n",
    "        std::cout << \"partition at threshold \" << gamma \n",
    "                  << \":\" << cl.getPartition(gamma) << std::endl;\n",
    "    }    \n",
    "} (h1);"
   ]
  },
  {
   "cell_type": "markdown",
   "metadata": {},
   "source": [
    "The MIRN can be used as the input."
   ]
  },
  {
   "cell_type": "code",
   "execution_count": 11,
   "metadata": {},
   "outputs": [
    {
     "name": "stdout",
     "output_type": "stream",
     "text": [
      "critical values : [ 1 0 ]\n",
      "partition at threshold 1:[ [ 0 ] [ 1 ] [ 2 ] ]\n",
      "partition at threshold 0:[ [ 0 ] [ 1 2 ] ]\n"
     ]
    }
   ],
   "source": [
    "[] {// Define the MIRN\n",
    "    std::vector<size_t> first_node = {0,1},  // list of 1st nodes i in edges\n",
    "                        second_node = {1,2}; // list of 2nd nodes j in edges\n",
    "    std::vector<double> gamma = {0,1};       // list of edge weights I(Zi;Zj)\n",
    "    // Single-linkage\n",
    "    IC::CL cl(3, first_node, second_node, gamma);\n",
    "\n",
    "    std::vector<double> cl_gamma = cl.getCriticalValues();\n",
    "    std::cout << \"critical values : \" << cl_gamma << std::endl;\n",
    "    for (double gamma : cl.getCriticalValues()) {\n",
    "        std::cout << \"partition at threshold \" << gamma \n",
    "                  << \":\" << cl.getPartition(gamma) << std::endl;\n",
    "    }    \n",
    "} ();"
   ]
  },
  {
   "cell_type": "markdown",
   "metadata": {},
   "source": [
    "## Examples on different source models"
   ]
  },
  {
   "cell_type": "markdown",
   "metadata": {},
   "source": [
    "For convenience, the entropy functions for several common source models have been implemented."
   ]
  },
  {
   "cell_type": "markdown",
   "metadata": {},
   "source": [
    "### Hypergraphical source"
   ]
  },
  {
   "cell_type": "markdown",
   "metadata": {},
   "source": [
    "A hypergraphical source is defined as follows:\n",
    "$$\n",
    "\\begin{align}\n",
    "\\RZ_i &= (\\RX_e|e\\in E, i\\in \\phi(e))\\qquad i\\in V\\\\\n",
    "\\end{align}\n",
    "$$\n",
    "for some given weighted hypergraph on $V$ with edge set $E$ where, for each edge $e\\in E$,\n",
    "- $\\phi(e)$ is the set of incident vertices on $e\\in E$, and\n",
    "- $H(\\RX_e)$ is the edge weight where $\\RX_e$ for $e\\in E$ are independent edge random variables."
   ]
  },
  {
   "cell_type": "markdown",
   "metadata": {},
   "source": [
    "The entropy function simplifies to\n",
    "$$\n",
    "h(B):=\\sum_{e\\in E: \\phi(e)\\cap B\\neq \\emptyset} H(\\RX_e)\\qquad B\\subseteq V.\n",
    "$$"
   ]
  },
  {
   "cell_type": "markdown",
   "metadata": {},
   "source": [
    "To load the library for hypergraphical source:"
   ]
  },
  {
   "cell_type": "code",
   "execution_count": 12,
   "metadata": {},
   "outputs": [],
   "source": [
    "#include <IC/hypergraph>"
   ]
  },
  {
   "cell_type": "markdown",
   "metadata": {},
   "source": [
    "The earlier example is a *pairwise independent network model (PIN)*, which is a special case of the hypergraphical source model when the hypergraph is a graph. More precisely, with $V=\\Set{0,1,2}$,\n",
    "$$\n",
    "\\begin{align}\n",
    "\\RZ_0 &= 0\\\\\n",
    "\\RZ_1 &= \\RX_a\\\\\n",
    "\\RZ_2 &= \\RX_a\n",
    "\\end{align}\n",
    "$$\n",
    "and the edge set $E := \\Set{a}$ contains a single edge $a$ with incident vertices in $\\phi(a)=\\Set{1,2}$ and edge weight $H(\\RX_a):=1$."
   ]
  },
  {
   "cell_type": "code",
   "execution_count": 13,
   "metadata": {},
   "outputs": [
    {
     "name": "stdout",
     "output_type": "stream",
     "text": [
      "Incidence matrix of the (weighted) hypergraph: \n",
      "M= \n",
      "0\n",
      "1\n",
      "1\n",
      "\n",
      "Pairwise mutual information: \n",
      "I(Z0; Z1) = 0\n",
      "I(Z0; Z2) = 0\n",
      "I(Z1; Z2) = 1\n",
      "\n",
      "Exact solution: \n",
      "[ [ 0 ] [ 1 ] [ 2 ] ]\n",
      "agglomerates to [ [ 0 ] [ 1 2 ] ] at critical value 1\n",
      "agglomerates to [ [ 0 1 2 ] ] at critical value -0\n",
      "\n",
      "Approximate solution: \n",
      "critical values : [ 1 0 ]\n",
      "partition at threshold 1:[ [ 0 ] [ 1 ] [ 2 ] ]\n",
      "partition at threshold 0:[ [ 0 ] [ 1 2 ] ]\n"
     ]
    }
   ],
   "source": [
    "{\n",
    "    // define the incidence matrix\n",
    "    Eigen::MatrixXd M(3,1); // 3 vertices and 1 edge\n",
    "    M << 0, \n",
    "         1, \n",
    "         1;\n",
    "    std::cout << \"Incidence matrix of the (weighted) hypergraph: \" \n",
    "              << std::endl << \"M= \\n\" << M << std::endl;\n",
    "    IC::HypergraphEntropy h(M);\n",
    "    \n",
    "    // compute pairwise mutual information\n",
    "    std::cout << std::endl << \"Pairwise mutual information: \" << std::endl;\n",
    "    for (size_t i=0; i<h.size(); i++)\n",
    "        for (size_t j=i+1; j<h.size(); j++)\n",
    "        std::cout << \"I(Z\" << i << \"; Z\" << j << \") = \" \n",
    "                  << h.mutual_info(i,j) << std::endl;    \n",
    "    \n",
    "    // generate exact info-clustering solution\n",
    "    std::cout << std::endl << \"Exact solution: \" << std::endl;\n",
    "    IC::AIC psp(h);\n",
    "    std::cout << psp.getCoarsestPartition() \n",
    "              << std::endl; \n",
    "    while (psp.agglomerate()) \n",
    "            std::cout << \"agglomerates to \" << psp.getCoarsestPartition() \n",
    "                  << \" at critical value \" << psp.getCriticalValues().back() \n",
    "                  << std::endl;\n",
    "    \n",
    "    // generate approximate info-clustering solution\n",
    "    std::cout << std::endl << \"Approximate solution: \" << std::endl;\n",
    "    IC::CL cl(h);\n",
    "    std::vector<double> cl_gamma = cl.getCriticalValues();\n",
    "    std::cout << \"critical values : \" << cl_gamma << std::endl;\n",
    "    for (double gamma : cl.getCriticalValues()) {\n",
    "        std::cout << \"partition at threshold \" << gamma \n",
    "                  << \":\" << cl.getPartition(gamma) << std::endl;\n",
    "    }   \n",
    "}"
   ]
  },
  {
   "cell_type": "markdown",
   "metadata": {},
   "source": [
    "The following is an example beyond the PIN model because of the hyperedge covering the first three nodes."
   ]
  },
  {
   "cell_type": "code",
   "execution_count": 14,
   "metadata": {},
   "outputs": [
    {
     "name": "stdout",
     "output_type": "stream",
     "text": [
      "Incidence matrix of the (weighted) hypergraph: \n",
      "M= \n",
      "1 1 0 0\n",
      "1 1 0 0\n",
      "1 0 0 0\n",
      "0 0 1 0\n",
      "0 0 1 0\n",
      "0 0 0 1\n",
      "\n",
      "Exact solution: \n",
      "[ [ 0 ] [ 1 ] [ 2 ] [ 3 ] [ 4 ] [ 5 ] ]\n",
      "agglomerates to [ [ 0 1 ] [ 2 ] [ 3 ] [ 4 ] [ 5 ] ] at critical value 2\n",
      "agglomerates to [ [ 0 1 2 ] [ 3 4 ] [ 5 ] ] at critical value 1\n",
      "agglomerates to [ [ 0 1 2 3 5 4 ] ] at critical value -0\n",
      "\n",
      "Approximate solution: \n",
      "critical values : [ 2 1 0 ]\n",
      "partition at threshold 2:[ [ 0 ] [ 1 ] [ 2 ] [ 3 ] [ 4 ] [ 5 ] ]\n",
      "partition at threshold 1:[ [ 0 1 ] [ 2 ] [ 3 ] [ 4 ] [ 5 ] ]\n",
      "partition at threshold 0:[ [ 0 1 2 ] [ 3 4 ] [ 5 ] ]\n"
     ]
    }
   ],
   "source": [
    "{\n",
    "    // define the incidence matrix\n",
    "    Eigen::MatrixXd M(6,4); // 6 vertices and 4 hyperedges\n",
    "    M << 1, 1, 0, 0,\n",
    "         1, 1, 0, 0,\n",
    "         1, 0, 0, 0,\n",
    "         0, 0, 1, 0,\n",
    "         0, 0, 1, 0,\n",
    "         0, 0, 0, 1;\n",
    "    std::cout << \"Incidence matrix of the (weighted) hypergraph: \" \n",
    "              << std::endl << \"M= \\n\" << M << std::endl;\n",
    "    IC::HypergraphEntropy h(M);\n",
    "    \n",
    "    // generate exact info-clustering solution\n",
    "    std::cout << std::endl << \"Exact solution: \" << std::endl;\n",
    "    IC::AIC psp(h);\n",
    "    std::cout << psp.getCoarsestPartition() \n",
    "              << std::endl; \n",
    "    while (psp.agglomerate()) \n",
    "            std::cout << \"agglomerates to \" << psp.getCoarsestPartition() \n",
    "                  << \" at critical value \" << psp.getCriticalValues().back() \n",
    "                  << std::endl;\n",
    "    \n",
    "    // generate approximate info-clustering solution\n",
    "    std::cout << std::endl << \"Approximate solution: \" << std::endl;\n",
    "    IC::CL cl(h);\n",
    "    std::vector<double> cl_gamma = cl.getCriticalValues();\n",
    "    std::cout << \"critical values : \" << cl_gamma << std::endl;\n",
    "    for (double gamma : cl.getCriticalValues()) {\n",
    "        std::cout << \"partition at threshold \" << gamma \n",
    "                  << \":\" << cl.getPartition(gamma) << std::endl;\n",
    "    }   \n",
    "}"
   ]
  },
  {
   "cell_type": "markdown",
   "metadata": {},
   "source": [
    "The following hypergraph is *minimally connected* in the sense that removing any hyperedge disconnects the hypergraph."
   ]
  },
  {
   "cell_type": "code",
   "execution_count": 15,
   "metadata": {},
   "outputs": [
    {
     "name": "stdout",
     "output_type": "stream",
     "text": [
      "Incidence matrix of the (weighted) hypergraph: \n",
      "M= \n",
      "1 0 1\n",
      "1 1 0\n",
      "0 1 1\n",
      "1 0 0\n",
      "0 1 0\n",
      "0 0 1\n",
      "\n",
      "Exact solution: \n",
      "[ [ 0 ] [ 1 ] [ 2 ] [ 3 ] [ 4 ] [ 5 ] ]\n",
      "agglomerates to [ [ 0 2 1 ] [ 3 ] [ 4 ] [ 5 ] ] at critical value 1.5\n",
      "agglomerates to [ [ 0 2 1 3 4 5 ] ] at critical value 1\n",
      "\n",
      "Approximate solution: \n",
      "critical values : [ 1 ]\n",
      "partition at threshold 1:[ [ 0 ] [ 1 ] [ 2 ] [ 3 ] [ 4 ] [ 5 ] ]\n"
     ]
    }
   ],
   "source": [
    "{\n",
    "    // define the incidence matrix\n",
    "    Eigen::MatrixXd M(6,3); // 6 vertices and 3 hyperedges\n",
    "    M << 1, 0, 1,\n",
    "         1, 1, 0,\n",
    "         0, 1, 1,\n",
    "         1, 0, 0,\n",
    "         0, 1, 0,\n",
    "         0, 0, 1;\n",
    "    std::cout << \"Incidence matrix of the (weighted) hypergraph: \" \n",
    "              << std::endl << \"M= \\n\" << M << std::endl;\n",
    "    IC::HypergraphEntropy h(M);\n",
    "    \n",
    "    // generate exact info-clustering solution\n",
    "    std::cout << std::endl << \"Exact solution: \" << std::endl;\n",
    "    IC::AIC psp(h);\n",
    "    std::cout << psp.getCoarsestPartition() \n",
    "              << std::endl; \n",
    "    while (psp.agglomerate()) \n",
    "            std::cout << \"agglomerates to \" << psp.getCoarsestPartition() \n",
    "                  << \" at critical value \" << psp.getCriticalValues().back() \n",
    "                  << std::endl;\n",
    "    \n",
    "    // generate approximate info-clustering solution\n",
    "    std::cout << std::endl << \"Approximate solution: \" << std::endl;\n",
    "    IC::CL cl(h);\n",
    "    std::vector<double> cl_gamma = cl.getCriticalValues();\n",
    "    std::cout << \"critical values : \" << cl_gamma << std::endl;\n",
    "    for (double gamma : cl.getCriticalValues()) {\n",
    "        std::cout << \"partition at threshold \" << gamma \n",
    "                  << \":\" << cl.getPartition(gamma) << std::endl;\n",
    "    }   \n",
    "}"
   ]
  },
  {
   "cell_type": "markdown",
   "metadata": {},
   "source": [
    "### Gaussian source"
   ]
  },
  {
   "cell_type": "markdown",
   "metadata": {},
   "source": [
    "For the (jointly) gaussian source model,\n",
    "$$\\RZ_i := \\MM_i\\RMx \\qquad \\text{for $i\\in V$}$$\n",
    "where $\\RMx$ is a while gaussian random row vector of any given length and $\\MM_i$ can be any (deterministic) matrix of any given number of rows."
   ]
  },
  {
   "cell_type": "markdown",
   "metadata": {},
   "source": [
    "The entropy function is given by\n",
    "$$\n",
    "\\begin{align}\n",
    "\\begin{split}\n",
    "h(B)&:=\\frac{k}2\\log_2 2\\pi e \\det \\MM_B\\MM_B^{\\intercal}\\qquad \\text{where}\\\\\n",
    "\\MM_B &:=\\begin{bmatrix}\\MM_{i_1} \\\\ \\MM_{i_2}\\\\ \\vdots\\end{bmatrix}\\kern1em \\text{for any}\\kern1em B=\\Set{i_1,i_2,\\dots}\\subseteq V.\n",
    "\\end{split}\\label{eq:gaussian}\n",
    "\\end{align}\n",
    "$$\n",
    "$\\MM$ is obtained by stacking the matrices $\\MM_i$ for $i\\in B$ vertically.\n",
    "Note that the above determinant is undefined if $\\MM$ loses rank. Such degeneracy is not handled automatically by the library. Instead, one can cluster based on the matrix rank first with \n",
    "$$h(B):=\\operatorname{rank}(\\MM_B)$$ \n",
    "and then remove the linear dependency for further clustering using the gaussian model.  "
   ]
  },
  {
   "cell_type": "markdown",
   "metadata": {},
   "source": [
    "To load the library for the gaussian source model:"
   ]
  },
  {
   "cell_type": "code",
   "execution_count": 16,
   "metadata": {},
   "outputs": [],
   "source": [
    "#include <IC/gaussian>"
   ]
  },
  {
   "cell_type": "markdown",
   "metadata": {},
   "source": [
    "The following is a simple example with three users in $V=\\Set{0,1,2}$ where:\n",
    "$$\n",
    "\\begin{aligned}\n",
    "\\RZ_0 &= \\Rx_0 + \\Rx_1\\\\\n",
    "\\RZ_1 &= \\Rx_0 + \\Rx_2\\\\\n",
    "\\RZ_2 &= \\Rx_3,\n",
    "\\end{aligned}\n",
    "\\qquad \\text{for the white gaussian vector }\n",
    "\\RMx = \\begin{bmatrix} \\Rx_1 \\\\ \\Rx_2 \\\\ \\Rx_3 \\end{bmatrix}.\n",
    "$$"
   ]
  },
  {
   "cell_type": "code",
   "execution_count": 17,
   "metadata": {},
   "outputs": [
    {
     "name": "stdout",
     "output_type": "stream",
     "text": [
      "Linear mappings: \n",
      "M0= \n",
      "1 1 0 0\n",
      "\n",
      "M1= \n",
      "1 0 1 0\n",
      "\n",
      "M2= \n",
      "0 0 0 1\n",
      "\n",
      "Pairwise mutual information: \n",
      "I(Z0; Z1) = 0.207519\n",
      "I(Z0; Z2) = 0\n",
      "I(Z1; Z2) = 0\n",
      "\n",
      "Exact solution: \n",
      "[ [ 0 ] [ 1 ] [ 2 ] ]\n",
      "agglomerates to [ [ 0 1 ] [ 2 ] ] at critical value 0.207519\n",
      "agglomerates to [ [ 0 1 2 ] ] at critical value -8.88178e-16\n",
      "\n",
      "Approximate solution: \n",
      "critical values : [ 0.207519 0 ]\n",
      "partition at threshold 0.207519:[ [ 0 ] [ 1 ] [ 2 ] ]\n",
      "partition at threshold 0:[ [ 0 1 ] [ 2 ] ]\n"
     ]
    }
   ],
   "source": [
    "{\n",
    "    // define the linear mappings\n",
    "    Eigen::MatrixXd M0(1,4), M1(1,4), M2(1,4);\n",
    "    M0 << 1,1,0,0;\n",
    "    M1 << 1,0,1,0;\n",
    "    M2 << 0,0,0,1;\n",
    "    std::cout << \"Linear mappings: \" \n",
    "          << std::endl << \"M0= \\n\" << M0 << std::endl\n",
    "          << std::endl << \"M1= \\n\" << M1 << std::endl\n",
    "          << std::endl << \"M2= \\n\" << M2 << std::endl;\n",
    "    std::vector<Eigen::MatrixXd> LinearMappings = {M0,M1,M2};\n",
    "    IC::GaussianEntropy h(LinearMappings);\n",
    "    \n",
    "    // compute pairwise mutual information\n",
    "    std::cout << std::endl << \"Pairwise mutual information: \" << std::endl;\n",
    "    for (size_t i=0; i<h.size(); i++)\n",
    "        for (size_t j=i+1; j<h.size(); j++)\n",
    "        std::cout << \"I(Z\" << i << \"; Z\" << j << \") = \" \n",
    "                  << h.mutual_info(i,j) << std::endl;    \n",
    "    \n",
    "    // generate exact info-clustering solution\n",
    "    std::cout << std::endl << \"Exact solution: \" << std::endl;\n",
    "    IC::AIC psp(h);\n",
    "    std::cout << psp.getCoarsestPartition() \n",
    "              << std::endl; \n",
    "    while (psp.agglomerate()) \n",
    "            std::cout << \"agglomerates to \" << psp.getCoarsestPartition() \n",
    "                  << \" at critical value \" << psp.getCriticalValues().back() \n",
    "                  << std::endl;\n",
    "    \n",
    "    // generate approximate info-clustering solution\n",
    "    std::cout << std::endl << \"Approximate solution: \" << std::endl;\n",
    "    IC::CL cl(h);\n",
    "    std::vector<double> cl_gamma = cl.getCriticalValues();\n",
    "    std::cout << \"critical values : \" << cl_gamma << std::endl;\n",
    "    for (double gamma : cl.getCriticalValues()) {\n",
    "        std::cout << \"partition at threshold \" << gamma \n",
    "                  << \":\" << cl.getPartition(gamma) << std::endl;\n",
    "    }   \n",
    "}"
   ]
  },
  {
   "cell_type": "markdown",
   "metadata": {},
   "source": [
    "We can extend the *additive while gaussian noise (AWGN)* model to an arbitrary size:\n",
    "\\begin{align}\n",
    "    \\RZ_i &= \\Rx_{k_i} + \\sigma_i \\Rx_{k + i} \\kern 1em \\text {for $i\\in V$,}\\label{eq:AWGN}\n",
    "\\end{align}\n",
    "where \n",
    "- $V:=\\Set{0,\\dots,n-1}$ for some positive integer $n$ of nodes, \n",
    "- $k$ is a positive integer number of signals $\\Rx_0,\\dots,\\Rx_{k-1}$, and\n",
    "- for node $i\\in V$\n",
    "    - $k_i \\in \\Set{0,\\dots,k-1}$ is the signal index of node $i$, and\n",
    "    - $\\sigma_i^2$ is the variance of the noise $\\Rx_{k+i}$."
   ]
  },
  {
   "cell_type": "code",
   "execution_count": 18,
   "metadata": {},
   "outputs": [
    {
     "name": "stdout",
     "output_type": "stream",
     "text": [
      "Z_V = M x where \n",
      "A= \n",
      "1 0 0 0 0 1 0 0 0 0 0 0 0 0 0 0 0 0 0 0\n",
      "0 1 0 0 0 0 1 0 0 0 0 0 0 0 0 0 0 0 0 0\n",
      "0 0 1 0 0 0 0 1 0 0 0 0 0 0 0 0 0 0 0 0\n",
      "0 0 0 1 0 0 0 0 1 0 0 0 0 0 0 0 0 0 0 0\n",
      "0 0 0 0 1 0 0 0 0 1 0 0 0 0 0 0 0 0 0 0\n",
      "1 0 0 0 0 0 0 0 0 0 1 0 0 0 0 0 0 0 0 0\n",
      "0 1 0 0 0 0 0 0 0 0 0 1 0 0 0 0 0 0 0 0\n",
      "0 0 1 0 0 0 0 0 0 0 0 0 1 0 0 0 0 0 0 0\n",
      "0 0 0 1 0 0 0 0 0 0 0 0 0 1 0 0 0 0 0 0\n",
      "0 0 0 0 1 0 0 0 0 0 0 0 0 0 1 0 0 0 0 0\n",
      "1 0 0 0 0 0 0 0 0 0 0 0 0 0 0 1 0 0 0 0\n",
      "0 1 0 0 0 0 0 0 0 0 0 0 0 0 0 0 1 0 0 0\n",
      "0 0 1 0 0 0 0 0 0 0 0 0 0 0 0 0 0 1 0 0\n",
      "0 0 0 1 0 0 0 0 0 0 0 0 0 0 0 0 0 0 1 0\n",
      "0 0 0 0 1 0 0 0 0 0 0 0 0 0 0 0 0 0 0 1\n",
      "\n",
      "Exact solution: \n",
      "[ [ 0 ] [ 1 ] [ 2 ] [ 3 ] [ 4 ] [ 5 ] [ 6 ] [ 7 ] [ 8 ] [ 9 ] [ 10 ] [ 11 ] [ 12 ] [ 13 ] [ 14 ] ]\n",
      "agglomerates to [ [ 0 10 5 ] [ 1 11 6 ] [ 2 12 7 ] [ 3 13 8 ] [ 4 14 9 ] ] at critical value 0.25\n",
      "agglomerates to [ [ 0 10 5 1 2 3 4 11 6 12 7 13 8 14 9 ] ] at critical value 7.10543e-15\n",
      "\n",
      "Approximate solution: \n",
      "critical values : [ 0.207519 0 ]\n",
      "partition at threshold 0.207519:[ [ 0 ] [ 1 ] [ 2 ] [ 3 ] [ 4 ] [ 5 ] [ 6 ] [ 7 ] [ 8 ] [ 9 ] [ 10 ] [ 11 ] [ 12 ] [ 13 ] [ 14 ] ]\n",
      "partition at threshold 0:[ [ 0 10 5 ] [ 1 11 6 ] [ 2 7 12 ] [ 3 8 13 ] [ 4 9 14 ] ]\n"
     ]
    }
   ],
   "source": [
    "{\n",
    "    size_t k = 5;\n",
    "    double sigma = 1;\n",
    "    size_t n = 15;\n",
    "\n",
    "    // Define the linear mappings for the AWGN model\n",
    "    Eigen::MatrixXd A = Eigen::MatrixXd::Zero(n, n + k);\n",
    "    for (size_t i = 0; i < A.rows(); i++) {\n",
    "        A(i, i % k) = 1;\n",
    "        A(i, k + i) = sigma;\n",
    "    }\n",
    "    std::cout << \"Z_V = M x where \" << std::endl << \"A= \\n\" << A << std::endl;\n",
    "    std::vector<Eigen::MatrixXd> M(A.rows());\n",
    "    for (size_t i = 0; i < A.rows(); i++) {\n",
    "        M[i] = A.row(i);\n",
    "    }\n",
    "    \n",
    "    IC::GaussianEntropy h(M);\n",
    "    \n",
    "    // generate exact info-clustering solution\n",
    "    std::cout << std::endl << \"Exact solution: \" << std::endl;\n",
    "    IC::AIC psp(h);\n",
    "    std::cout << psp.getCoarsestPartition() \n",
    "              << std::endl; \n",
    "    while (psp.agglomerate()) \n",
    "            std::cout << \"agglomerates to \" << psp.getCoarsestPartition() \n",
    "                  << \" at critical value \" << psp.getCriticalValues().back() \n",
    "                  << std::endl;\n",
    "    \n",
    "    // generate approximate info-clustering solution\n",
    "    std::cout << std::endl << \"Approximate solution: \" << std::endl;\n",
    "    IC::CL cl(h);\n",
    "    std::vector<double> cl_gamma = cl.getCriticalValues();\n",
    "    std::cout << \"critical values : \" << cl_gamma << std::endl;\n",
    "    for (double gamma : cl.getCriticalValues()) {\n",
    "        std::cout << \"partition at threshold \" << gamma \n",
    "                  << \":\" << cl.getPartition(gamma) << std::endl;\n",
    "    }\n",
    "}"
   ]
  },
  {
   "cell_type": "markdown",
   "metadata": {},
   "source": [
    "Note that the exact and approximation solutions differ in the non-trivial critical value."
   ]
  },
  {
   "cell_type": "markdown",
   "metadata": {},
   "source": [
    "## Finite linear source"
   ]
  },
  {
   "cell_type": "markdown",
   "metadata": {},
   "source": [
    "A finite linear source source model is defined as,\n",
    "$$\\RZ_i := \\MM_i\\RMx \\qquad \\text{for $i\\in V$}$$\n",
    "where $\\RMx$ is a uniformly random row vector over a finite field $\\mathbb{F}_{p^k}$ and $\\MM_i$ can be any deterministic matrix."
   ]
  },
  {
   "cell_type": "markdown",
   "metadata": {},
   "source": [
    "The entropy function is given by\n",
    "$$\n",
    "\\begin{align}\n",
    "\\begin{split}\n",
    "h(B)&:=(k\\log_2 p) \\operatorname{rank} \\MM_B\\qquad \\text{where}\\\\\n",
    "\\MM_B &:=\\begin{bmatrix}\\MM_{i_1} \\\\ \\MM_{i_2}\\\\ \\vdots\\end{bmatrix}\\kern1em \\text{for any}\\kern1em B=\\Set{i_1,i_2,\\dots}\\subseteq V.\n",
    "\\end{split}\n",
    "\\end{align}\n",
    "$$\n",
    "$\\MM$ is obtained by stacking the matrices $\\MM_i$ for $i\\in B$ vertically.  "
   ]
  },
  {
   "cell_type": "markdown",
   "metadata": {},
   "source": [
    "To load the library for finite linear source:\n",
    "\n",
    "*You may ignore the warnings about 'register' storage class specifier being deprecated and incompatible with C++17.*"
   ]
  },
  {
   "cell_type": "code",
   "execution_count": 20,
   "metadata": {},
   "outputs": [],
   "source": [
    "#pragma cling add_include_path(\"$HOME/usr/include\")\n",
    "#pragma cling add_library_path(\"$HOME/usr/lib\")\n",
    "#pragma cling load(\"pari\")\n",
    "#include <IC/FLS>"
   ]
  },
  {
   "cell_type": "markdown",
   "metadata": {},
   "source": [
    "The following is a simple example with $V:=\\Set{0,1,2,3}$,\n",
    "$$\n",
    "\\begin{aligned}\n",
    "\\RZ_0 &:= \\Rx_0\\\\\n",
    "\\RZ_1 &:= \\Rx_1\\\\\n",
    "\\RZ_2 &:= \\Rx_0+\\Rx_1\\\\\n",
    "\\RZ_3 &:=0\n",
    "\\end{aligned}\\qquad\n",
    "\\text{where }\n",
    "\\RMx = \\begin{bmatrix}\\Rx_0\\\\ \\Rx_1\\end{bmatrix}\n",
    "$$\n",
    "is uniformly randomly over $\\mathbb{F}_2^2.$"
   ]
  },
  {
   "cell_type": "code",
   "execution_count": 21,
   "metadata": {},
   "outputs": [
    {
     "name": "stdout",
     "output_type": "stream",
     "text": [
      "I(Z0; Z1) = 0\n",
      "I(Z0; Z2) = 0\n",
      "I(Z0; Z3) = 0\n",
      "I(Z1; Z2) = 0\n",
      "I(Z1; Z3) = 0\n",
      "I(Z2; Z3) = 0\n",
      "\n",
      "Exact solution: \n",
      "[ [ 0 ] [ 1 ] [ 2 ] [ 3 ] ]\n",
      "agglomerates to [ [ 0 2 1 ] [ 3 ] ] at critical value 0.5\n",
      "agglomerates to [ [ 0 2 1 3 ] ] at critical value -0\n",
      "\n",
      "Approximate solution: \n",
      "critical values : [ 0 ]\n",
      "partition at threshold 0:[ [ 0 ] [ 1 ] [ 2 ] [ 3 ] ]\n"
     ]
    }
   ],
   "source": [
    "{\n",
    "    int pField = 2;\n",
    "    int kField = 1;\n",
    "\n",
    "    size_t m = 3;\n",
    "    size_t n0 = 1, n1 = 1, n2 = 1, n3 = 0;\n",
    "    Eigen::MatrixXd M0(n0,m);\n",
    "    Eigen::MatrixXd M1(n1,m);\n",
    "    Eigen::MatrixXd M2(n2,m);\n",
    "    Eigen::MatrixXd M3(n3,m);\n",
    "    M0 << 1,0,0;\n",
    "    M1 << 0,1,0;  \n",
    "    M2 << 1,1,0;\n",
    "\n",
    "    pari_init(1000000,2);\n",
    "\n",
    "    // compute pairwise mutual information\n",
    "    std::vector<Eigen::MatrixXd> LinearMappings = {M0,M1,M2,M3};\n",
    "    IC::FiniteLinearEntropy h(LinearMappings,pField,kField);\n",
    "    for (size_t i=0; i<h.size(); i++)\n",
    "        for (size_t j=i+1; j<h.size(); j++)\n",
    "        std::cout << \"I(Z\" << i << \"; Z\" << j << \") = \" \n",
    "                  << h.mutual_info(i,j) << std::endl;    \n",
    "    \n",
    "    // generate exact info-clustering solution\n",
    "    std::cout << std::endl << \"Exact solution: \" << std::endl;\n",
    "    IC::AIC psp(h);\n",
    "    std::cout << psp.getCoarsestPartition() \n",
    "              << std::endl; \n",
    "    while (psp.agglomerate()) \n",
    "            std::cout << \"agglomerates to \" << psp.getCoarsestPartition() \n",
    "                  << \" at critical value \" << psp.getCriticalValues().back() \n",
    "                  << std::endl;\n",
    "    \n",
    "    // generate approximate info-clustering solution\n",
    "    std::cout << std::endl << \"Approximate solution: \" << std::endl;\n",
    "    IC::CL cl(h);\n",
    "    std::vector<double> cl_gamma = cl.getCriticalValues();\n",
    "    std::cout << \"critical values : \" << cl_gamma << std::endl;\n",
    "    for (double gamma : cl.getCriticalValues()) {\n",
    "        std::cout << \"partition at threshold \" << gamma \n",
    "                  << \":\" << cl.getPartition(gamma) << std::endl;\n",
    "    }   \n",
    "    \n",
    "    pari_close();   \n",
    "}"
   ]
  },
  {
   "cell_type": "markdown",
   "metadata": {},
   "source": [
    "Note that $\\RZ_i$ for $i\\in V$ are pairwise independent, so the approximate info-clustering solution fails to identify the non-trivial cluster $\\Set{0,1,2}$ with MMI $0.5$."
   ]
  }
 ],
 "metadata": {
  "kernelspec": {
   "display_name": "C++11",
   "language": "C++11",
   "name": "xcpp11"
  },
  "language_info": {
   "codemirror_mode": "text/x-c++src",
   "file_extension": ".cpp",
   "mimetype": "text/x-c++src",
   "name": "c++",
   "version": "11"
  }
 },
 "nbformat": 4,
 "nbformat_minor": 4
}
